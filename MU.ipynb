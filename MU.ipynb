{
 "metadata": {
  "name": "",
  "signature": "sha256:72846c08442308ec3da4b5a80850158c37e306029be40e69f2cb3fb22a93cde4"
 },
 "nbformat": 3,
 "nbformat_minor": 0,
 "worksheets": [
  {
   "cells": [
    {
     "cell_type": "markdown",
     "metadata": {},
     "source": [
      "<a name=top></a>\n",
      "<center>\n",
      "<h1>GEB MU System</h1>\n",
      "</center>\n",
      "<p>\n",
      "\n",
      "<h2>Contents</h2>\n",
      "<ul>\n",
      "    <li> <a href=\"#setup\">Setup Cell</a>\n",
      "    <li> <a href=\"#basic\">Basic Tests</a>\n",
      "</ul>"
     ]
    },
    {
     "cell_type": "markdown",
     "metadata": {},
     "source": [
      "<hr size=3>\n",
      "<a name=setup></a>\n",
      "<h2><a href=\"#top\">^</a> Setup (must run this cell first)</h2>\n",
      "<p>"
     ]
    },
    {
     "cell_type": "code",
     "collapsed": false,
     "input": [
      "%autosave 0\n",
      "import formal_systems\n",
      "reload(formal_systems)\n",
      "from formal_systems import MU"
     ],
     "language": "python",
     "metadata": {},
     "outputs": [
      {
       "javascript": [
        "IPython.notebook.set_autosave_interval(0)"
       ],
       "metadata": {},
       "output_type": "display_data"
      },
      {
       "output_type": "stream",
       "stream": "stdout",
       "text": [
        "Autosave disabled\n"
       ]
      }
     ],
     "prompt_number": 1
    },
    {
     "cell_type": "markdown",
     "metadata": {},
     "source": [
      "<hr size=3>\n",
      "<a name=basic></a>\n",
      "<h2><a href=\"#top\">^</a> Basic Tests</h2>"
     ]
    },
    {
     "cell_type": "markdown",
     "metadata": {},
     "source": [
      "<h3>Example starting at bottom of page 35</h3>\n",
      "<p>"
     ]
    },
    {
     "cell_type": "code",
     "collapsed": false,
     "input": [
      "mu = MU(verbose=True)\n",
      "T = mu.axioms[0]\n",
      "T = mu.RII(T)\n",
      "T = mu.RII(T)\n",
      "T = mu.RI(T)\n",
      "T = mu.RIII(T)\n",
      "T = mu.RII(T)\n",
      "T = mu.RIV(T)"
     ],
     "language": "python",
     "metadata": {},
     "outputs": [
      {
       "html": [
        "<font size=3>Rule II: MI $\\rightarrow$ MII</font>"
       ],
       "metadata": {},
       "output_type": "display_data",
       "text": [
        "<IPython.core.display.HTML at 0x987062c>"
       ]
      },
      {
       "html": [
        "<font size=3>Rule II: MII $\\rightarrow$ MIIII</font>"
       ],
       "metadata": {},
       "output_type": "display_data",
       "text": [
        "<IPython.core.display.HTML at 0x987074c>"
       ]
      },
      {
       "html": [
        "<font size=3>Rule I: MIIII $\\rightarrow$ MIIIIU</font>"
       ],
       "metadata": {},
       "output_type": "display_data",
       "text": [
        "<IPython.core.display.HTML at 0x98707ec>"
       ]
      },
      {
       "html": [
        "<font size=3>Rule III: MIIIIU $\\rightarrow$ MUIU</font>"
       ],
       "metadata": {},
       "output_type": "display_data",
       "text": [
        "<IPython.core.display.HTML at 0x987088c>"
       ]
      },
      {
       "html": [
        "<font size=3>Rule II: MUIU $\\rightarrow$ MUIUUIU</font>"
       ],
       "metadata": {},
       "output_type": "display_data",
       "text": [
        "<IPython.core.display.HTML at 0x98708ac>"
       ]
      },
      {
       "html": [
        "<font size=3>Rule IV: MUIUUIU $\\rightarrow$ MUIIU</font>"
       ],
       "metadata": {},
       "output_type": "display_data",
       "text": [
        "<IPython.core.display.HTML at 0x98708cc>"
       ]
      }
     ],
     "prompt_number": 2
    },
    {
     "cell_type": "markdown",
     "metadata": {},
     "source": [
      "<h3>Enumerate Theorems (for specified time)</h3>\n",
      "<p>"
     ]
    },
    {
     "cell_type": "code",
     "collapsed": false,
     "input": [
      "reload(formal_systems)\n",
      "from formal_systems import MU\n",
      "mu = MU()\n",
      "mu.enumerate(time_limit=1)\n",
      "nt = len(mu.theorems)"
     ],
     "language": "python",
     "metadata": {},
     "outputs": [
      {
       "html": [
        "<font size=3>[Generated 5366 new theorems in 1.00 seconds]</font>"
       ],
       "metadata": {},
       "output_type": "display_data",
       "text": [
        "<IPython.core.display.HTML at 0x986af8c>"
       ]
      }
     ],
     "prompt_number": 3
    },
    {
     "cell_type": "code",
     "collapsed": false,
     "input": [
      "mu.isTheorem('MU')"
     ],
     "language": "python",
     "metadata": {},
     "outputs": [
      {
       "metadata": {},
       "output_type": "pyout",
       "prompt_number": 4,
       "text": [
        "False"
       ]
      }
     ],
     "prompt_number": 4
    },
    {
     "cell_type": "code",
     "collapsed": false,
     "input": [
      "from numpy import inf\n",
      "min_u = inf; min_i = inf\n",
      "max_u = 0; max_i = 0\n",
      "for T in mu.theorems:\n",
      "    count_u = mu.count('U',T); count_i = mu.count('I',T)\n",
      "    if count_u < min_u: min_u = count_u\n",
      "    if count_u > max_u: max_u = count_u\n",
      "    if count_i < min_i: min_i = count_i\n",
      "    if count_i > max_i: max_i = count_i\n",
      "(min_u, max_u, min_i, max_i)"
     ],
     "language": "python",
     "metadata": {},
     "outputs": [
      {
       "metadata": {},
       "output_type": "pyout",
       "prompt_number": 5,
       "text": [
        "(0, 2048, 1, 4096)"
       ]
      }
     ],
     "prompt_number": 5
    },
    {
     "cell_type": "markdown",
     "metadata": {},
     "source": [
      "<b>So it appears that there is always at least one I.\n",
      "Can I figure out why that's true?</b>\n",
      "<p>\n",
      "Say n is then number of Is, then:\n",
      "<ul>\n",
      "<li> We start with one, by the only axiom.\n",
      "<li> Rule 1: Doesn't change n.\n",
      "<li> Rule 2: Doubles n.\n",
      "<li> Rule 3: Subtracts three from n.\n",
      "<li> Rule 4: Doesn't change n.\n",
      "</ul>"
     ]
    },
    {
     "cell_type": "markdown",
     "metadata": {},
     "source": [
      "<b><font color=green>\n",
      "So if we apply rule 2 j times and rule 3 k times we have $n=2^j-3k$.\n",
      "So for n to come out zero a multiple of 3 would have to equal\n",
      "a power of 2. But powers of 2 have only 2s as factors, so\n",
      "none can be a multiple of three.\n",
      "</font></b>"
     ]
    },
    {
     "cell_type": "code",
     "collapsed": false,
     "input": [],
     "language": "python",
     "metadata": {},
     "outputs": [],
     "prompt_number": 5
    }
   ],
   "metadata": {}
  }
 ]
}