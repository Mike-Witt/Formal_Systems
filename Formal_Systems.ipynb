{
 "metadata": {
  "name": "",
  "signature": "sha256:b2539232e3c1761b19dfdceb1c955420af2b60b3ebca3192ce91c591542b4abf"
 },
 "nbformat": 3,
 "nbformat_minor": 0,
 "worksheets": [
  {
   "cells": [
    {
     "cell_type": "markdown",
     "metadata": {},
     "source": [
      "<a name=top></a>\n",
      "<center>\n",
      "<h1>Formal Systems</h1>\n",
      "</center>\n",
      "<p>\n",
      "\n",
      "<h2>Contents</h2>\n",
      "<ul>\n",
      "    <li> <a href=\"#setup\">Setup Cell</a>\n",
      "    <li> <a href=\"#basic\">Basic Tests</a>\n",
      "    <li> <a href=\"#prove\">Theorem Proving</a>\n",
      "</ul>"
     ]
    },
    {
     "cell_type": "markdown",
     "metadata": {},
     "source": [
      "<hr size=3>\n",
      "<a name=setup></a>\n",
      "<h2><a href=\"#top\">^</a> Setup (must run this cell first)</h2>\n",
      "<p>"
     ]
    },
    {
     "cell_type": "code",
     "collapsed": false,
     "input": [
      "%autosave 0\n",
      "import formal_systems\n",
      "reload(formal_systems)\n",
      "from formal_systems import MU"
     ],
     "language": "python",
     "metadata": {},
     "outputs": [
      {
       "javascript": [
        "IPython.notebook.set_autosave_interval(0)"
       ],
       "metadata": {},
       "output_type": "display_data"
      },
      {
       "output_type": "stream",
       "stream": "stdout",
       "text": [
        "Autosave disabled\n"
       ]
      }
     ],
     "prompt_number": 1
    },
    {
     "cell_type": "markdown",
     "metadata": {},
     "source": [
      "<hr size=3>\n",
      "<a name=basic></a>\n",
      "<h2><a href=\"#top\">^</a> Basic Tests</h2>"
     ]
    },
    {
     "cell_type": "markdown",
     "metadata": {},
     "source": [
      "<h3>Enumerate Theorems</h3>\n",
      "<p>"
     ]
    },
    {
     "cell_type": "code",
     "collapsed": false,
     "input": [
      "reload(formal_systems)\n",
      "from formal_systems import MU\n",
      "mu = MU(verbose=False)\n",
      "#formal_systems.default_sleep_time = 0\n",
      "mu.enumerate(num_cycles=0, time_limit=5, verbose=False)"
     ],
     "language": "python",
     "metadata": {},
     "outputs": [
      {
       "html": [
        "<font size=3>[Generated 11343 new theorems in 5.00 seconds]</font>"
       ],
       "metadata": {},
       "output_type": "display_data",
       "text": [
        "<IPython.core.display.HTML at 0x95a26ec>"
       ]
      }
     ],
     "prompt_number": 2
    },
    {
     "cell_type": "code",
     "collapsed": false,
     "input": [
      "len(mu.theorems)"
     ],
     "language": "python",
     "metadata": {},
     "outputs": [
      {
       "metadata": {},
       "output_type": "pyout",
       "prompt_number": 3,
       "text": [
        "11344"
       ]
      }
     ],
     "prompt_number": 3
    },
    {
     "cell_type": "code",
     "collapsed": false,
     "input": [
      "mu.enumerate(num_cycles=0, time_limit=5, verbose=False)"
     ],
     "language": "python",
     "metadata": {},
     "outputs": [
      {
       "html": [
        "<font size=3>[Generated 4965 new theorems in 5.00 seconds]</font>"
       ],
       "metadata": {},
       "output_type": "display_data",
       "text": [
        "<IPython.core.display.HTML at 0x95af4ac>"
       ]
      }
     ],
     "prompt_number": 4
    },
    {
     "cell_type": "code",
     "collapsed": false,
     "input": [
      "len(mu.theorems)"
     ],
     "language": "python",
     "metadata": {},
     "outputs": [
      {
       "metadata": {},
       "output_type": "pyout",
       "prompt_number": 5,
       "text": [
        "16309"
       ]
      }
     ],
     "prompt_number": 5
    },
    {
     "cell_type": "markdown",
     "metadata": {},
     "source": [
      "<h3>Signs, entry and display formats</h3>\n",
      "<p>"
     ]
    },
    {
     "cell_type": "code",
     "collapsed": false,
     "input": [
      "reload(formal_systems)\n",
      "from formal_systems import MU\n",
      "mu = MU(verbose=True)\n",
      "mu.show()"
     ],
     "language": "python",
     "metadata": {},
     "outputs": [
      {
       "html": [
        "<font size=3><table>\n",
        "<tr>\n",
        "<td>Sign\n",
        "<td>Number\n",
        "<td>Enter\n",
        "<tr><td>$\\mathrm{M}$<td>$0$<td>M\n",
        "<tr><td>$\\mathrm{I}$<td>$0$<td>I\n",
        "<tr><td>$\\mathrm{U}$<td>$0$<td>U\n",
        "</table></font>"
       ],
       "metadata": {},
       "output_type": "display_data",
       "text": [
        "<IPython.core.display.HTML at 0x95a5d4c>"
       ]
      }
     ],
     "prompt_number": 6
    },
    {
     "cell_type": "code",
     "collapsed": false,
     "input": [
      "mu.show_axioms()"
     ],
     "language": "python",
     "metadata": {},
     "outputs": [
      {
       "html": [
        "<font size=3>$1.\\; \\mathrm{M} \\mathrm{I} $</font>"
       ],
       "metadata": {},
       "output_type": "display_data",
       "text": [
        "<IPython.core.display.HTML at 0x95a9fec>"
       ]
      }
     ],
     "prompt_number": 7
    },
    {
     "cell_type": "code",
     "collapsed": false,
     "input": [
      "reload(formal_systems)\n",
      "from formal_systems import TNT\n",
      "tnt = TNT(verbose=True)\n",
      "tnt.show()"
     ],
     "language": "python",
     "metadata": {},
     "outputs": [
      {
       "html": [
        "<font size=3><table>\n",
        "<tr>\n",
        "<td>Sign\n",
        "<td>Number\n",
        "<td>Enter\n",
        "<tr><td>$0$<td>$666$<td>0\n",
        "<tr><td>$\\mathrm{S}$<td>$123$<td>S\n",
        "<tr><td>$=$<td>$111$<td>=\n",
        "<tr><td>$+$<td>$112$<td>+\n",
        "<tr><td>$\\cdot$<td>$236$<td>.\n",
        "<tr><td>$($<td>$362$<td>(\n",
        "<tr><td>$)$<td>$323$<td>)\n",
        "<tr><td>$\\lt$<td>$212$<td><\n",
        "<tr><td>$\\gt$<td>$213$<td>>\n",
        "<tr><td>$[$<td>$312$<td>[\n",
        "<tr><td>$]$<td>$313$<td>]\n",
        "<tr><td>$a$<td>$262$<td>a\n",
        "<tr><td>$'$<td>$163$<td>'\n",
        "<tr><td>$\\land$<td>$161$<td>^\n",
        "<tr><td>$\\lor$<td>$616$<td>v\n",
        "<tr><td>$\\supset$<td>$633$<td>}\n",
        "<tr><td>$\\sim$<td>$223$<td>~\n",
        "<tr><td>$\\exists$<td>$333$<td>E\n",
        "<tr><td>$\\forall$<td>$626$<td>A\n",
        "<tr><td>$:$<td>$636$<td>:\n",
        "<tr><td>$;$<td>$611$<td>;\n",
        "</table></font>"
       ],
       "metadata": {},
       "output_type": "display_data",
       "text": [
        "<IPython.core.display.HTML at 0x982570c>"
       ]
      }
     ],
     "prompt_number": 8
    },
    {
     "cell_type": "code",
     "collapsed": false,
     "input": [
      "tnt.show_axioms()"
     ],
     "language": "python",
     "metadata": {},
     "outputs": [
      {
       "html": [
        "<font size=3>$1.\\; \\forall a : \\sim \\mathrm{S} a = 0 $</font>"
       ],
       "metadata": {},
       "output_type": "display_data",
       "text": [
        "<IPython.core.display.HTML at 0x9590f2c>"
       ]
      },
      {
       "html": [
        "<font size=3>$2.\\; \\forall a : ( a + 0 ) = a $</font>"
       ],
       "metadata": {},
       "output_type": "display_data",
       "text": [
        "<IPython.core.display.HTML at 0x9590b0c>"
       ]
      },
      {
       "html": [
        "<font size=3>$3.\\; \\forall a : \\forall a ' : ( a + \\mathrm{S} a ' ) = \\mathrm{S} ( a + a ' ) $</font>"
       ],
       "metadata": {},
       "output_type": "display_data",
       "text": [
        "<IPython.core.display.HTML at 0x982562c>"
       ]
      },
      {
       "html": [
        "<font size=3>$4.\\; \\forall a : ( a \\cdot 0 ) = 0 $</font>"
       ],
       "metadata": {},
       "output_type": "display_data",
       "text": [
        "<IPython.core.display.HTML at 0x98251cc>"
       ]
      },
      {
       "html": [
        "<font size=3>$5.\\; \\forall a : \\forall a ' : ( a \\cdot \\mathrm{S} a ' ) = ( ( a \\cdot a ' ) + a ) $</font>"
       ],
       "metadata": {},
       "output_type": "display_data",
       "text": [
        "<IPython.core.display.HTML at 0x95a9f8c>"
       ]
      }
     ],
     "prompt_number": 9
    },
    {
     "cell_type": "markdown",
     "metadata": {},
     "source": [
      "<hr size=3>\n",
      "<a name=prove></a>\n",
      "<h2><a href=\"#top\">^</a> Theorem Proving</h2>"
     ]
    },
    {
     "cell_type": "code",
     "collapsed": false,
     "input": [
      "reload(formal_systems)\n",
      "from formal_systems import MU\n",
      "sys = MU()\n",
      "sys.show_axioms()\n",
      "sys.prove()"
     ],
     "language": "python",
     "metadata": {},
     "outputs": [
      {
       "html": [
        "<font size=3>$1.\\; \\mathrm{M} \\mathrm{I} $</font>"
       ],
       "metadata": {},
       "output_type": "display_data",
       "text": [
        "<IPython.core.display.HTML at 0x95af3ac>"
       ]
      },
      {
       "name": "stdout",
       "output_type": "stream",
       "stream": "stdout",
       "text": [
        "Enter a theorem or number:MI\n"
       ]
      },
      {
       "html": [
        "<font size=3>$\\mathrm{M} \\mathrm{I} $</font>"
       ],
       "metadata": {},
       "output_type": "display_data",
       "text": [
        "<IPython.core.display.HTML at 0x95af42c>"
       ]
      },
      {
       "name": "stdout",
       "output_type": "stream",
       "stream": "stdout",
       "text": [
        "Rule:1\n"
       ]
      },
      {
       "html": [
        "<font size=3>$\\mathrm{M} \\mathrm{I} \\rightarrow \\mathrm{M} \\mathrm{I} \\mathrm{U} $</font>"
       ],
       "metadata": {},
       "output_type": "display_data",
       "text": [
        "<IPython.core.display.HTML at 0x95a26ac>"
       ]
      },
      {
       "name": "stdout",
       "output_type": "stream",
       "stream": "stdout",
       "text": [
        "Rule:2\n"
       ]
      },
      {
       "html": [
        "<font size=3>$\\mathrm{M} \\mathrm{I} \\mathrm{U} \\rightarrow \\mathrm{M} \\mathrm{I} \\mathrm{U} \\mathrm{I} \\mathrm{U} $</font>"
       ],
       "metadata": {},
       "output_type": "display_data",
       "text": [
        "<IPython.core.display.HTML at 0x95afe0c>"
       ]
      },
      {
       "name": "stdout",
       "output_type": "stream",
       "stream": "stdout",
       "text": [
        "Rule:3\n"
       ]
      },
      {
       "html": [
        "<font size=3>$\\mathrm{M} \\mathrm{I} \\mathrm{U} \\mathrm{I} \\mathrm{U} $</font>"
       ],
       "metadata": {},
       "output_type": "display_data",
       "text": [
        "<IPython.core.display.HTML at 0x95a266c>"
       ]
      },
      {
       "name": "stdout",
       "output_type": "stream",
       "stream": "stdout",
       "text": [
        "Rule:q\n"
       ]
      }
     ],
     "prompt_number": 12
    },
    {
     "cell_type": "code",
     "collapsed": false,
     "input": [
      "sys.show_theorems(first=1, last=10)"
     ],
     "language": "python",
     "metadata": {},
     "outputs": [
      {
       "html": [
        "<font size=3>$1.\\; \\mathrm{M} \\mathrm{I} $</font>"
       ],
       "metadata": {},
       "output_type": "display_data",
       "text": [
        "<IPython.core.display.HTML at 0x95af9ec>"
       ]
      },
      {
       "html": [
        "<font size=3>$2.\\; \\mathrm{M} \\mathrm{I} \\mathrm{U} $</font>"
       ],
       "metadata": {},
       "output_type": "display_data",
       "text": [
        "<IPython.core.display.HTML at 0x9590a0c>"
       ]
      },
      {
       "html": [
        "<font size=3>$3.\\; \\mathrm{M} \\mathrm{I} \\mathrm{U} \\mathrm{I} \\mathrm{U} $</font>"
       ],
       "metadata": {},
       "output_type": "display_data",
       "text": [
        "<IPython.core.display.HTML at 0x95afa6c>"
       ]
      }
     ],
     "prompt_number": 13
    },
    {
     "cell_type": "code",
     "collapsed": false,
     "input": [],
     "language": "python",
     "metadata": {},
     "outputs": [],
     "prompt_number": 11
    }
   ],
   "metadata": {}
  }
 ]
}