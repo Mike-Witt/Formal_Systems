{
 "metadata": {
  "name": "",
  "signature": "sha256:9cb08e48dc15416bae51af34a414179c837ccc57200e7569661f965835817931"
 },
 "nbformat": 3,
 "nbformat_minor": 0,
 "worksheets": [
  {
   "cells": [
    {
     "cell_type": "markdown",
     "metadata": {},
     "source": [
      "<a name=top></a>\n",
      "<center>\n",
      "<h1>Godel.ipynb</h1>\n",
      "</center>\n",
      "<p>\n",
      "\n",
      "<h2>Contents</h2>\n",
      "<ul class=ult>\n",
      "    <li> <a href=\"#setup\">Setup Cell</a>\n",
      "    <li> <a href=\"#pm\">Systems</a>\n",
      "    <li> <a href=\"#sentences\">Sentences</a>\n",
      "    <li> <a href=\"#sub\">Sub</a>\n",
      "</ul>"
     ]
    },
    {
     "cell_type": "markdown",
     "metadata": {},
     "source": [
      "<h2>Notes</h2>\n",
      "<ul>\n",
      "<li> Either \"the book\" or \"NN\" means G&ouml;del's Proof\n",
      "    by Nagel &amp; Newman. Page references without any other\n",
      "    designation also refer to that book.\n",
      "<br>\n",
      "<li> P.69: Numbers for signs, sentences, and sequences of sentences\n",
      "    are all called \"G&ouml;del numbers.\" But I tend to refer to the\n",
      "    codes of signs as simply \"numbers.\"\n",
      "<br>\n",
      "<li> P.84: NN is not going to tell us how to construct \"dem.\" It is\n",
      "    also unclear from what it says here whether G&ouml;del's paper\n",
      "    actually tells how to construct it, or simply gives an existence\n",
      "    argument that it can be done. This is a fundamental question, in\n",
      "    terms of what we can do on the computer.\n",
      "<br>\n",
      "<li> P.96/97: This is the sequence, right?\n",
      "    <br>&nbsp;&nbsp;&nbsp;&nbsp;\n",
      "        $\\hat{n}=\\sim (\\exists x)$Dem$(x,$Sub$((y, 17, y))$\n",
      "    <br>&nbsp;&nbsp;&nbsp;&nbsp;\n",
      "        $\\hat{G}=\\sim (\\exists x)$Dem$(x,$Sub$((\\hat{n}, 17, \\hat{n}))$\n",
      "    <br>$\\hat{G}\\ne\\hat{n}$ (right?)\n",
      "    <br>But $\\hat{G}$ does refer to itself. I'm not <i>quite</i>\n",
      "        getting this yet.\n",
      "<br>\n",
      "<li> AFAICT NN only gives an \"existence\" argument for \"Sub\" (the\n",
      "    construction in PM with performs \"sub\") so we don't know if\n",
      "    there's actually a way to construct it or not.\n",
      "<br>\n",
      "<li> I <i>thought</i> Rucker (need reference) made a comment implying\n",
      "    that <i>everything</i> could be constructed and they actually\n",
      "    had some idea what the resulting string asserted?\n",
      "<br>\n",
      "<li> NN page 97 has the key statements about\n",
      "    $\\sim(\\exists x) Dem(x, Sub (\\hat{n},17,\\hat{n}))$\n",
      "    referencing itself. I don't quite follow that yet.\n",
      "<br>\n",
      "<li> Other links I may want to look at:\n",
      "    <br>\n",
      "    http://web.yonsei.ac.kr/bkim/goedel.pdf\n",
      "    <br>\n",
      "    http://medlibrary.org/medwiki/Godel%27s_incompleteness_theorem\n",
      "    <br>\n",
      "    http://www.prime-numbers.org/\n",
      "  \n",
      "</ul>\n",
      "<p>"
     ]
    },
    {
     "cell_type": "markdown",
     "metadata": {},
     "source": [
      "<h2>Terminology</h2>\n",
      "<ul>\n",
      "<li> <b>system</b> - the formal system under discussion.\n",
      "<li> <b>sign</b> - a given symbol in that system. For the time being,\n",
      "    you have to enter some symbols in a way other than the way they are\n",
      "    displayed.\n",
      "<li> <b>number</b> - the numeric representation of a sign. The book\n",
      "    would call this a G&ouml;del number.\n",
      "<li> <b>g_number</b> - the G&ouml;del number of a sentence or\n",
      "    sequence of sentences in the system.\n",
      "</ul>"
     ]
    },
    {
     "cell_type": "markdown",
     "metadata": {},
     "source": [
      "<hr size=3>\n",
      "<a name=setup></a>\n",
      "<h2><a href=\"#top\">^</a> Setup (must run this cell first)</h2>\n",
      "<p>"
     ]
    },
    {
     "cell_type": "code",
     "collapsed": false,
     "input": [
      "%autosave 0\n",
      "from numpy import log10\n",
      "import godel\n",
      "reload(godel)\n",
      "from godel import *"
     ],
     "language": "python",
     "metadata": {},
     "outputs": [
      {
       "javascript": [
        "IPython.notebook.set_autosave_interval(0)"
       ],
       "metadata": {},
       "output_type": "display_data"
      },
      {
       "output_type": "stream",
       "stream": "stdout",
       "text": [
        "Autosave disabled\n",
        "Reading primes from file ..."
       ]
      },
      {
       "output_type": "stream",
       "stream": "stdout",
       "text": [
        " Done\n",
        "Reading primes from file ..."
       ]
      },
      {
       "output_type": "stream",
       "stream": "stdout",
       "text": [
        " Done\n"
       ]
      }
     ],
     "prompt_number": 1
    },
    {
     "cell_type": "markdown",
     "metadata": {},
     "source": [
      "<hr size=3>\n",
      "<a name=pm></a>\n",
      "<h2><a href=\"#top\">^</a> The System PM</h2>\n",
      "<p>\n",
      "A <b>system</b> is encoded as an array of tuples, each one consisting\n",
      "of an\n",
      "entry value, a display value, and numeric code assigned to the given sign.\n",
      "The table below shows the predefined system \"PM.\" The last column in\n",
      "the table give the \"entry\" values. There are simply what you enter\n",
      "by hand in a string, so as to avoid having to type in latex code."
     ]
    },
    {
     "cell_type": "code",
     "collapsed": false,
     "input": [
      "# PM is a predefined system. Systems have a \"show()\" method ...\n",
      "PM.show(fontsize=2)"
     ],
     "language": "python",
     "metadata": {},
     "outputs": [
      {
       "html": [
        "<font size=2><table>\n",
        "<tr>\n",
        "<td>Sign\n",
        "<td>Number\n",
        "<td>Enter\n",
        "<tr><td>$\\sim$<td>$1$<td>~\n",
        "<tr><td>$\\lor$<td>$2$<td>V\n",
        "<tr><td>$\\supset$<td>$3$<td>>\n",
        "<tr><td>$\\exists$<td>$4$<td>E\n",
        "<tr><td>$=$<td>$5$<td>=\n",
        "<tr><td>$0$<td>$6$<td>0\n",
        "<tr><td>$s$<td>$7$<td>s\n",
        "<tr><td>$($<td>$8$<td>(\n",
        "<tr><td>$)$<td>$9$<td>)\n",
        "<tr><td>$,$<td>$10$<td>,\n",
        "<tr><td>$+$<td>$11$<td>+\n",
        "<tr><td>$\\times$<td>$12$<td>*\n",
        "<tr><td>$x$<td>$13$<td>x\n",
        "<tr><td>$y$<td>$17$<td>y\n",
        "<tr><td>$z$<td>$19$<td>z\n",
        "<tr><td>$p$<td>$169$<td>p\n",
        "<tr><td>$q$<td>$289$<td>q\n",
        "<tr><td>$r$<td>$361$<td>r\n",
        "<tr><td>$P$<td>$2197$<td>P\n",
        "<tr><td>$Q$<td>$4913$<td>Q\n",
        "<tr><td>$R$<td>$6859$<td>R\n",
        "</table></font>"
       ],
       "metadata": {},
       "output_type": "display_data",
       "text": [
        "<IPython.core.display.HTML at 0xa578f2c>"
       ]
      }
     ],
     "prompt_number": 2
    },
    {
     "cell_type": "markdown",
     "metadata": {},
     "source": [
      "<hr size=3>\n",
      "<a name=sentences></a>\n",
      "<h2><a href=\"#top\">^</a> Sentences</h2>\n",
      "<p>\n",
      "A sentence is given as a string in ascii text. It is stored in\n",
      "\"encoded\" form as a list of tuples. Mostly, a tuble only consits of\n",
      "one value, which is the numeric code for the sign. But if the first\n",
      "values of the tuple is -1, then the second value is an integer. If\n",
      "the first value is -2, then the second value is a G&ouml;del number\n",
      "(the format of a G&ouml;del number is explaned below).\n",
      "<p>\n",
      "This shows different ways that a sentence can be displayed, including\n",
      "it's \"G&ouml;delization\" in different formats."
     ]
    },
    {
     "cell_type": "code",
     "collapsed": false,
     "input": [
      "# NN Page 75 ...\n",
      "S = sentence(PM, '(Ex)(x=sy)')\n",
      "Print('$%s$'%S.as_raw())\n",
      "Print('$%s$'%S.as_sentence())\n",
      "Print('$%s$'%S.as_g_factors())\n",
      "Print('$%s$'%S.as_g_factors(times=False))\n",
      "gnum = S.as_g_number()\n",
      "Print('$%s$'%'{:,}'.format(gnum))\n",
      "Print('The above number uses %s bits'%gnum.bit_length())\n",
      "pow10 = int(round(log10(float(gnum))))\n",
      "Print('The above number is on the order of $10^{%s}$'%pow10)"
     ],
     "language": "python",
     "metadata": {},
     "outputs": [
      {
       "html": [
        "<font size=3>$[(8,), (4,), (13,), (9,), (8,), (13,), (5,), (7,), (17,), (9,)]$</font>"
       ],
       "metadata": {},
       "output_type": "display_data",
       "text": [
        "<IPython.core.display.HTML at 0xae061cc>"
       ]
      },
      {
       "html": [
        "<font size=3>$( \\exists x ) ( x = s y ) $</font>"
       ],
       "metadata": {},
       "output_type": "display_data",
       "text": [
        "<IPython.core.display.HTML at 0xae0646c>"
       ]
      },
      {
       "html": [
        "<font size=3>$2^{8}\\times 3^{4}\\times 5^{13}\\times 7^{9}\\times 11^{8}\\times 13^{13}\\times 17^{5}\\times 19^{7}\\times 23^{17}\\times 29^{9}$</font>"
       ],
       "metadata": {},
       "output_type": "display_data",
       "text": [
        "<IPython.core.display.HTML at 0xa9a870c>"
       ]
      },
      {
       "html": [
        "<font size=3>$2^{8}3^{4}5^{13}7^{9}11^{8}13^{13}17^{5}19^{7}23^{17}29^{9}$</font>"
       ],
       "metadata": {},
       "output_type": "display_data",
       "text": [
        "<IPython.core.display.HTML at 0xae0622c>"
       ]
      },
      {
       "html": [
        "<font size=3>$172,225,505,803,959,398,742,621,651,659,678,877,886,965,404,082,311,908,389,214,945,877,004,912,002,249,920,215,937,500,000,000$</font>"
       ],
       "metadata": {},
       "output_type": "display_data",
       "text": [
        "<IPython.core.display.HTML at 0xae0616c>"
       ]
      },
      {
       "html": [
        "<font size=3>The above number uses 317 bits</font>"
       ],
       "metadata": {},
       "output_type": "display_data",
       "text": [
        "<IPython.core.display.HTML at 0xae060ec>"
       ]
      },
      {
       "html": [
        "<font size=3>The above number is on the order of $10^{95}$</font>"
       ],
       "metadata": {},
       "output_type": "display_data",
       "text": [
        "<IPython.core.display.HTML at 0xae0634c>"
       ]
      }
     ],
     "prompt_number": 3
    },
    {
     "cell_type": "code",
     "collapsed": false,
     "input": [
      "# NN Page 79 ...\n",
      "S = sentence(PM, '0=0')\n",
      "Print('$%s$'%S.as_raw())\n",
      "Print('$%s$'%S.as_sentence())\n",
      "Print('$%s$'%S.as_g_factors())\n",
      "gnum = S.as_g_number()\n",
      "Print('$%s$'%'{:,}'.format(gnum))\n",
      "Print('The above number uses %s bits'%gnum.bit_length())\n",
      "pow10 = int(round(log10(float(gnum))))\n",
      "Print('The above number is on the order of $10^{%s}$'%pow10)\n",
      "pow10 = int(round(gnum.bit_length()*log10(2)))\n",
      "Print('Alternate calculation on the order of $10^{%s}$'%pow10)"
     ],
     "language": "python",
     "metadata": {},
     "outputs": [
      {
       "html": [
        "<font size=3>$[(6,), (5,), (6,)]$</font>"
       ],
       "metadata": {},
       "output_type": "display_data",
       "text": [
        "<IPython.core.display.HTML at 0xae0606c>"
       ]
      },
      {
       "html": [
        "<font size=3>$0 = 0 $</font>"
       ],
       "metadata": {},
       "output_type": "display_data",
       "text": [
        "<IPython.core.display.HTML at 0xae062ec>"
       ]
      },
      {
       "html": [
        "<font size=3>$2^{6}\\times 3^{5}\\times 5^{6}$</font>"
       ],
       "metadata": {},
       "output_type": "display_data",
       "text": [
        "<IPython.core.display.HTML at 0xa83bbac>"
       ]
      },
      {
       "html": [
        "<font size=3>$243,000,000$</font>"
       ],
       "metadata": {},
       "output_type": "display_data",
       "text": [
        "<IPython.core.display.HTML at 0xae06d2c>"
       ]
      },
      {
       "html": [
        "<font size=3>The above number uses 28 bits</font>"
       ],
       "metadata": {},
       "output_type": "display_data",
       "text": [
        "<IPython.core.display.HTML at 0xae06ccc>"
       ]
      },
      {
       "html": [
        "<font size=3>The above number is on the order of $10^{8}$</font>"
       ],
       "metadata": {},
       "output_type": "display_data",
       "text": [
        "<IPython.core.display.HTML at 0xae06d8c>"
       ]
      },
      {
       "html": [
        "<font size=3>Alternate calculation on the order of $10^{8}$</font>"
       ],
       "metadata": {},
       "output_type": "display_data",
       "text": [
        "<IPython.core.display.HTML at 0xae060ac>"
       ]
      }
     ],
     "prompt_number": 4
    },
    {
     "cell_type": "code",
     "collapsed": false,
     "input": [
      "# Other experiments ...\n",
      "S = sentence(PM, '(Ex)(x=s3)')\n",
      "S = sentence(PM, '~(10=11)')\n",
      "S = sentence(PM, '2=3')\n",
      "Print('$%s$'%S.as_raw())\n",
      "Print('$%s$'%S.as_sentence())\n",
      "Print('$%s$'%S.as_sentence(force_s=True))\n",
      "Print('$%s$'%S.as_g_factors())\n",
      "gnum = S.as_g_number()\n",
      "Print('$%s$'%'{:,}'.format(gnum))\n",
      "Print('The above number uses %s bits'%gnum.bit_length())"
     ],
     "language": "python",
     "metadata": {},
     "outputs": [
      {
       "html": [
        "<font size=3>$[(-1, 2), (5,), (-1, 3)]$</font>"
       ],
       "metadata": {},
       "output_type": "display_data",
       "text": [
        "<IPython.core.display.HTML at 0xae06fac>"
       ]
      },
      {
       "html": [
        "<font size=3>$2 = 3 $</font>"
       ],
       "metadata": {},
       "output_type": "display_data",
       "text": [
        "<IPython.core.display.HTML at 0xae066ec>"
       ]
      },
      {
       "html": [
        "<font size=3>$ss0= sss0$</font>"
       ],
       "metadata": {},
       "output_type": "display_data",
       "text": [
        "<IPython.core.display.HTML at 0xae0628c>"
       ]
      },
      {
       "html": [
        "<font size=3>$2^{7}\\times 3^{7}\\times 5^{6}\\times 5^{5}\\times 7^{7}\\times 11^{7}\\times 13^{7}\\times 17^{6}$</font>"
       ],
       "metadata": {},
       "output_type": "display_data",
       "text": [
        "<IPython.core.display.HTML at 0xae06dcc>"
       ]
      },
      {
       "html": [
        "<font size=3>$332,246,849,140,071,257,873,820,598,027,518,750,000,000$</font>"
       ],
       "metadata": {},
       "output_type": "display_data",
       "text": [
        "<IPython.core.display.HTML at 0xae06cec>"
       ]
      },
      {
       "html": [
        "<font size=3>The above number uses 138 bits</font>"
       ],
       "metadata": {},
       "output_type": "display_data",
       "text": [
        "<IPython.core.display.HTML at 0xa55894c>"
       ]
      }
     ],
     "prompt_number": 5
    },
    {
     "cell_type": "markdown",
     "metadata": {},
     "source": [
      "<hr size=3>\n",
      "<a name=sub></a>\n",
      "<h2><a href=\"#top\">^</a> Sub</h2>\n",
      "<p>\n",
      "See page 87 ...\n",
      "<p>"
     ]
    },
    {
     "cell_type": "code",
     "collapsed": false,
     "input": [
      "reload(godel)\n",
      "from godel import *\n",
      "\n",
      "# NN Page 87 and 88\n",
      "S = sentence(PM, '(Ex)(x=sy)')\n",
      "Print('$S = %s$'%S.as_sentence())\n",
      "m = S # We \"store\" the resulting Goedel number simply as the sentance.\n",
      "Print('$\\hat{g} = %s$' %m.as_g_factors())\n",
      "# \"S\" and \"m\" are actually the same thing in my encoding.\n",
      "# Also, I specify the system and use the sign itself, rather than\n",
      "# its encoding number.\n",
      "S2 = sub(PM, S, 'y', m)\n",
      "S2.as_raw()\n",
      "Print('New $S = %s$'%S2.as_sentence())\n",
      "Print('G&ouml;del number of new S is:')\n",
      "Print('$%s$'%S2.as_g_factors(times=False))\n",
      "#Print('$%s$'%S2.as_g_factors())"
     ],
     "language": "python",
     "metadata": {},
     "outputs": [
      {
       "output_type": "stream",
       "stream": "stdout",
       "text": [
        "Reading primes from file ..."
       ]
      },
      {
       "output_type": "stream",
       "stream": "stdout",
       "text": [
        " Done\n"
       ]
      },
      {
       "html": [
        "<font size=3>$S = ( \\exists x ) ( x = s y ) $</font>"
       ],
       "metadata": {},
       "output_type": "display_data",
       "text": [
        "<IPython.core.display.HTML at 0xa83bbac>"
       ]
      },
      {
       "html": [
        "<font size=3>$\\hat{g} = 2^{8}\\times 3^{4}\\times 5^{13}\\times 7^{9}\\times 11^{8}\\times 13^{13}\\times 17^{5}\\times 19^{7}\\times 23^{17}\\times 29^{9}$</font>"
       ],
       "metadata": {},
       "output_type": "display_data",
       "text": [
        "<IPython.core.display.HTML at 0xaba168c>"
       ]
      },
      {
       "html": [
        "<font size=3>New $S = ( \\exists x ) ( x = s \\hat{g} ) $</font>"
       ],
       "metadata": {},
       "output_type": "display_data",
       "text": [
        "<IPython.core.display.HTML at 0xaba17cc>"
       ]
      },
      {
       "html": [
        "<font size=3>G&ouml;del number of new S is:</font>"
       ],
       "metadata": {},
       "output_type": "display_data",
       "text": [
        "<IPython.core.display.HTML at 0xaba144c>"
       ]
      },
      {
       "html": [
        "<font size=3>$2^{8}3^{4}5^{13}7^{9}11^{8}13^{13}17^{5}19^{7}23^{7}  ... P_{g+8}^{7} P_{g+9}^{6} P_{g+10}^{9}$</font>"
       ],
       "metadata": {},
       "output_type": "display_data",
       "text": [
        "<IPython.core.display.HTML at 0xaba184c>"
       ]
      }
     ],
     "prompt_number": 6
    },
    {
     "cell_type": "code",
     "collapsed": false,
     "input": [
      "reload(godel)\n",
      "from godel import *\n",
      "\n",
      "# Another, simpler, test of sub and printing\n",
      "S = sentence(PM, 'Ex,y=x')\n",
      "S = sentence(PM, 's0')\n",
      "#S = sentence(PM, '~V')\n",
      "rsign = '0' # Sign to replace\n",
      "#print('raw: %s'%S.as_raw())\n",
      "Print('$S: %s$'%S.as_sentence())\n",
      "g = S\n",
      "Print('$\\hat{g} = %s$' %g.as_g_factors())\n",
      "foo='{:,}'.format(g.as_g_number())\n",
      "Print('$\\hat{g} = %s$' %foo)\n",
      "sign, desc, num = PM.lookup_sign_value(rsign)\n",
      "Print('Replacing $%s$ with $\\hat{g}$'%desc)\n",
      "S2 = sub(PM, S, rsign, g)\n",
      "Print('New $S: %s$'%S2.as_sentence())\n",
      "Print('G&ouml;del number of new S is:')\n",
      "#print('raw: %s'%S2.as_raw())\n",
      "Print('$%s$'%S2.as_g_factors())"
     ],
     "language": "python",
     "metadata": {},
     "outputs": [
      {
       "output_type": "stream",
       "stream": "stdout",
       "text": [
        "Reading primes from file ..."
       ]
      },
      {
       "output_type": "stream",
       "stream": "stdout",
       "text": [
        " Done\n"
       ]
      },
      {
       "html": [
        "<font size=3>$S: s 0 $</font>"
       ],
       "metadata": {},
       "output_type": "display_data",
       "text": [
        "<IPython.core.display.HTML at 0xa57c60c>"
       ]
      },
      {
       "html": [
        "<font size=3>$\\hat{g} = 2^{7}\\times 3^{6}$</font>"
       ],
       "metadata": {},
       "output_type": "display_data",
       "text": [
        "<IPython.core.display.HTML at 0xa57c70c>"
       ]
      },
      {
       "html": [
        "<font size=3>$\\hat{g} = 93,312$</font>"
       ],
       "metadata": {},
       "output_type": "display_data",
       "text": [
        "<IPython.core.display.HTML at 0xa58204c>"
       ]
      },
      {
       "html": [
        "<font size=3>Replacing $0$ with $\\hat{g}$</font>"
       ],
       "metadata": {},
       "output_type": "display_data",
       "text": [
        "<IPython.core.display.HTML at 0xa57cd8c>"
       ]
      },
      {
       "html": [
        "<font size=3>New $S: s \\hat{g} $</font>"
       ],
       "metadata": {},
       "output_type": "display_data",
       "text": [
        "<IPython.core.display.HTML at 0xa57ca6c>"
       ]
      },
      {
       "html": [
        "<font size=3>G&ouml;del number of new S is:</font>"
       ],
       "metadata": {},
       "output_type": "display_data",
       "text": [
        "<IPython.core.display.HTML at 0xa57cf4c>"
       ]
      },
      {
       "html": [
        "<font size=3>$2^{7}\\times 3^{7} \\times  ... \\times P_{g+1}^{7} \\times P_{g+2}^{6} $</font>"
       ],
       "metadata": {},
       "output_type": "display_data",
       "text": [
        "<IPython.core.display.HTML at 0xa57cfec>"
       ]
      }
     ],
     "prompt_number": 7
    },
    {
     "cell_type": "code",
     "collapsed": false,
     "input": [
      "g = S2.as_g_number()"
     ],
     "language": "python",
     "metadata": {},
     "outputs": [
      {
       "output_type": "stream",
       "stream": "stdout",
       "text": [
        "Warning: Encountered an embedded Goedel number:\n"
       ]
      },
      {
       "html": [
        "<font size=3>$93312$</font>"
       ],
       "metadata": {},
       "output_type": "display_data",
       "text": [
        "<IPython.core.display.HTML at 0xa5787ac>"
       ]
      },
      {
       "output_type": "stream",
       "stream": "stdout",
       "text": [
        "This could get ugly ...\n"
       ]
      },
      {
       "output_type": "stream",
       "stream": "stdout",
       "text": [
        "  1 min: countdown = 58571\n"
       ]
      },
      {
       "output_type": "stream",
       "stream": "stdout",
       "text": [
        "  2 min: countdown = 45346\n"
       ]
      },
      {
       "output_type": "stream",
       "stream": "stdout",
       "text": [
        "  3 min: countdown = 35580\n"
       ]
      },
      {
       "output_type": "stream",
       "stream": "stdout",
       "text": [
        "  4 min: countdown = 27659\n"
       ]
      },
      {
       "output_type": "stream",
       "stream": "stdout",
       "text": [
        "  5 min: countdown = 20639\n"
       ]
      },
      {
       "output_type": "stream",
       "stream": "stdout",
       "text": [
        "  6 min: countdown = 14301\n"
       ]
      },
      {
       "output_type": "stream",
       "stream": "stdout",
       "text": [
        "  7 min: countdown = 8491\n"
       ]
      },
      {
       "output_type": "stream",
       "stream": "stdout",
       "text": [
        "  8 min: countdown = 3149\n"
       ]
      },
      {
       "output_type": "stream",
       "stream": "stdout",
       "text": [
        "Expansion done. \"0\" prime was 1205609.\n"
       ]
      }
     ],
     "prompt_number": 8
    },
    {
     "cell_type": "code",
     "collapsed": false,
     "input": [
      "bits = '{:,}'.format(g.bit_length())\n",
      "Print('The number uses %s bits'%bits)\n",
      "pow10 = int(round(g.bit_length()*log10(2)))\n",
      "pow10 = '{:,}'.format(pow10)\n",
      "Print('The number is on the order of $10^{%s}$'%pow10)"
     ],
     "language": "python",
     "metadata": {},
     "outputs": [
      {
       "html": [
        "<font size=3>The number uses 12,165,069 bits</font>"
       ],
       "metadata": {},
       "output_type": "display_data",
       "text": [
        "<IPython.core.display.HTML at 0xab936ac>"
       ]
      },
      {
       "html": [
        "<font size=3>The number is on the order of $10^{3,662,051}$</font>"
       ],
       "metadata": {},
       "output_type": "display_data",
       "text": [
        "<IPython.core.display.HTML at 0xab93f0c>"
       ]
      }
     ],
     "prompt_number": 9
    },
    {
     "cell_type": "code",
     "collapsed": false,
     "input": [],
     "language": "python",
     "metadata": {},
     "outputs": [],
     "prompt_number": 9
    }
   ],
   "metadata": {}
  }
 ]
}